{
 "cells": [
  {
   "cell_type": "code",
   "execution_count": 1,
   "metadata": {
    "collapsed": true
   },
   "outputs": [],
   "source": [
    "#Import data\n",
    "\n",
    "import pandas as pd\n",
    "import numpy  as np\n",
    "\n",
    "train_users = pd.read_csv('train_users_2.csv')\n",
    "test_users = pd.read_csv('test_users.csv')\n",
    "#sessions = pd.read_csv('sessions.csv')\n"
   ]
  },
  {
   "cell_type": "code",
   "execution_count": 2,
   "metadata": {
    "collapsed": false
   },
   "outputs": [],
   "source": [
    "#Preprocessing\n",
    "from sklearn.preprocessing import LabelEncoder\n",
    "\n",
    "#Encode labels\n",
    "labels = train_users.pop('country_destination')\n",
    "le = LabelEncoder()\n",
    "train_labels = le.fit_transform(labels) \n",
    "\n",
    "#Create dummies for training set\n",
    "df_train =  pd.get_dummies(train_users[['gender','signup_method','language',\n",
    "                                  'affiliate_channel','affiliate_provider',\n",
    "                                  'signup_app','first_device_type']])\n",
    "\n",
    "df_train.set_index(train_users['id'], inplace=True)\n",
    "\n",
    "#Create dummies for test set\n",
    "df_test =  pd.get_dummies(test_users[['gender','signup_method','language',\n",
    "                                  'affiliate_channel','affiliate_provider',\n",
    "                                  'signup_app','first_device_type']])\n",
    "\n",
    "df_test.set_index(test_users['id'], inplace = True)"
   ]
  },
  {
   "cell_type": "code",
   "execution_count": 3,
   "metadata": {
    "collapsed": false
   },
   "outputs": [
    {
     "name": "stdout",
     "output_type": "stream",
     "text": [
      "67 67\n"
     ]
    }
   ],
   "source": [
    "#Some categorical features exist in the training set and not in the test set and visa versa.\n",
    "#In other words, some test set users have 'first_device_type' as 'nokia', but none in test set do\n",
    "#This is a problem we'll have to solve when we do this for real\n",
    "\n",
    "missing_train = [col_train for col_train in df_train.columns if col_train not in df_test.columns]\n",
    "missing_test = [col_test for col_test in df_test.columns if col_test not in df_train.columns]\n",
    "\n",
    "#drop columns\n",
    "df_train.drop(missing_train, axis=1, inplace = True)\n",
    "df_test.drop(missing_test, axis=1, inplace=True)\n",
    "\n",
    "#Ensure each set has same number of features\n",
    "print (len(df_train.columns), len(df_test.columns)) #True"
   ]
  },
  {
   "cell_type": "code",
   "execution_count": 4,
   "metadata": {
    "collapsed": false
   },
   "outputs": [],
   "source": [
    "#Run Random Forest Model\n",
    "from sklearn.ensemble import RandomForestClassifier\n",
    "\n",
    "rfc = RandomForestClassifier(n_estimators = 100)\n",
    "rfc.fit(df_train, train_labels)\n",
    "preds = rfc.predict(df_test)\n"
   ]
  },
  {
   "cell_type": "code",
   "execution_count": 5,
   "metadata": {
    "collapsed": false
   },
   "outputs": [
    {
     "data": {
      "text/html": [
       "<div>\n",
       "<table border=\"1\" class=\"dataframe\">\n",
       "  <thead>\n",
       "    <tr style=\"text-align: right;\">\n",
       "      <th></th>\n",
       "      <th>code</th>\n",
       "      <th>country</th>\n",
       "    </tr>\n",
       "  </thead>\n",
       "  <tbody>\n",
       "    <tr>\n",
       "      <th>0</th>\n",
       "      <td>2</td>\n",
       "      <td>DE</td>\n",
       "    </tr>\n",
       "    <tr>\n",
       "      <th>1</th>\n",
       "      <td>3</td>\n",
       "      <td>ES</td>\n",
       "    </tr>\n",
       "    <tr>\n",
       "      <th>2</th>\n",
       "      <td>4</td>\n",
       "      <td>FR</td>\n",
       "    </tr>\n",
       "    <tr>\n",
       "      <th>3</th>\n",
       "      <td>5</td>\n",
       "      <td>GB</td>\n",
       "    </tr>\n",
       "    <tr>\n",
       "      <th>4</th>\n",
       "      <td>6</td>\n",
       "      <td>IT</td>\n",
       "    </tr>\n",
       "    <tr>\n",
       "      <th>5</th>\n",
       "      <td>7</td>\n",
       "      <td>NDF</td>\n",
       "    </tr>\n",
       "    <tr>\n",
       "      <th>6</th>\n",
       "      <td>10</td>\n",
       "      <td>US</td>\n",
       "    </tr>\n",
       "    <tr>\n",
       "      <th>7</th>\n",
       "      <td>11</td>\n",
       "      <td>other</td>\n",
       "    </tr>\n",
       "  </tbody>\n",
       "</table>\n",
       "</div>"
      ],
      "text/plain": [
       "   code country\n",
       "0     2      DE\n",
       "1     3      ES\n",
       "2     4      FR\n",
       "3     5      GB\n",
       "4     6      IT\n",
       "5     7     NDF\n",
       "6    10      US\n",
       "7    11   other"
      ]
     },
     "execution_count": 5,
     "metadata": {},
     "output_type": "execute_result"
    },
    {
     "data": {
      "image/png": "[encoded data removed]",
      "text/plain": [
       "<matplotlib.figure.Figure at 0x2243337a8d0>"
      ]
     },
     "metadata": {},
     "output_type": "display_data"
    }
   ],
   "source": [
    "#Plot results\n",
    "\n",
    "%matplotlib inline\n",
    "import matplotlib.pyplot as plt\n",
    "plt.hist(preds)\n",
    "\n",
    "#Unique Countries in data set\n",
    "pd.DataFrame({'code': np.unique(preds),'country':np.unique(le.inverse_transform(preds))})"
   ]
  },
  {
   "cell_type": "code",
   "execution_count": 74,
   "metadata": {
    "collapsed": false
   },
   "outputs": [],
   "source": [
    "results = pd.DataFrame({'country':le.inverse_transform(preds),'id':df_test.index})\n",
    "results.to_csv('initial_submission.csv')"
   ]
  }
 ],
 "metadata": {
  "kernelspec": {
   "display_name": "Python 3",
   "language": "python",
   "name": "python3"
  },
  "language_info": {
   "codemirror_mode": {
    "name": "ipython",
    "version": 3
   },
   "file_extension": ".py",
   "mimetype": "text/x-python",
   "name": "python",
   "nbconvert_exporter": "python",
   "pygments_lexer": "ipython3",
   "version": "3.5.1"
  }
 },
 "nbformat": 4,
 "nbformat_minor": 0
}
